{
 "cells": [
  {
   "cell_type": "markdown",
   "metadata": {},
   "source": [
    "## Introduction: ##\n",
    "This project will analyze various datasets about Pittsburgh neighborhoods to determine which one is the best! Based on the datasets available on WPRDC, we decided the best course of action would be for each group member to pick a submetric they found important for determining the best neighborhood and then configure our metrics altogether."
   ]
  },
  {
   "cell_type": "markdown",
   "metadata": {},
   "source": [
    "## Our Metric: ## \n",
    "The three datasets we chose to analyze pertained to the median age at death, fast food establishments, and air quality. We made a holistic decision based on our findings from each dataset to determine the best \n",
    "neighborhood in Pittsburgh."
   ]
  },
  {
   "cell_type": "markdown",
   "metadata": {},
   "source": [
    "---\n",
    "## Data Set 1: Allegheny County Fast Food Establishments ## \n",
    "\n",
    "data set : https://data.wprdc.org/dataset/allegheny-county-fast-food\n",
    "\n",
    "The dataset keeps track of all the fast food restaurants without an alcohol permit within Allegheny County. This includes chain restaurants, as well as locally owned restaurants. It was last updated in 2016, and contains over 800 entries.\n",
    "\n",
    "The following code imports the libraries necessary for working with the dataset, and displaying visualizations. It also reads in the dataset and displays the first few rows to display the formatting."
   ]
  },
  {
   "cell_type": "code",
   "execution_count": 1,
   "metadata": {},
   "outputs": [
    {
     "data": {
      "text/html": [
       "<div>\n",
       "<style scoped>\n",
       "    .dataframe tbody tr th:only-of-type {\n",
       "        vertical-align: middle;\n",
       "    }\n",
       "\n",
       "    .dataframe tbody tr th {\n",
       "        vertical-align: top;\n",
       "    }\n",
       "\n",
       "    .dataframe thead th {\n",
       "        text-align: right;\n",
       "    }\n",
       "</style>\n",
       "<table border=\"1\" class=\"dataframe\">\n",
       "  <thead>\n",
       "    <tr style=\"text-align: right;\">\n",
       "      <th></th>\n",
       "      <th>Name</th>\n",
       "      <th>Legal Name</th>\n",
       "      <th>Start Date</th>\n",
       "      <th>Street Number</th>\n",
       "      <th>Street Name</th>\n",
       "      <th>ZIP Code</th>\n",
       "      <th>Lat</th>\n",
       "      <th>Lon</th>\n",
       "      <th>Category</th>\n",
       "    </tr>\n",
       "  </thead>\n",
       "  <tbody>\n",
       "    <tr>\n",
       "      <th>0</th>\n",
       "      <td>Adrian's Pizza</td>\n",
       "      <td>NaN</td>\n",
       "      <td>11/7/2014</td>\n",
       "      <td>605</td>\n",
       "      <td>Thompson Run Rd</td>\n",
       "      <td>15237</td>\n",
       "      <td>40.539465</td>\n",
       "      <td>-79.990764</td>\n",
       "      <td>Take Out</td>\n",
       "    </tr>\n",
       "    <tr>\n",
       "      <th>1</th>\n",
       "      <td>Adrian's Pizza Express</td>\n",
       "      <td>Rock Enterprises Inc</td>\n",
       "      <td>4/22/2004</td>\n",
       "      <td>7824</td>\n",
       "      <td>Perry Hwy</td>\n",
       "      <td>15237</td>\n",
       "      <td>40.551219</td>\n",
       "      <td>-80.037362</td>\n",
       "      <td>Take Out</td>\n",
       "    </tr>\n",
       "    <tr>\n",
       "      <th>2</th>\n",
       "      <td>Allegheny Sandwich Shop</td>\n",
       "      <td>NaN</td>\n",
       "      <td>2/24/1997</td>\n",
       "      <td>414</td>\n",
       "      <td>Grant St</td>\n",
       "      <td>15219</td>\n",
       "      <td>40.438110</td>\n",
       "      <td>-79.996860</td>\n",
       "      <td>NO Dollar Menu</td>\n",
       "    </tr>\n",
       "    <tr>\n",
       "      <th>3</th>\n",
       "      <td>Allegheny Sandwich Shoppe #3</td>\n",
       "      <td>Allegheny Sandwich Shoppe Inc</td>\n",
       "      <td>11/9/2001</td>\n",
       "      <td>440</td>\n",
       "      <td>Ross St</td>\n",
       "      <td>15219</td>\n",
       "      <td>40.438514</td>\n",
       "      <td>-79.995330</td>\n",
       "      <td>NO Dollar Menu</td>\n",
       "    </tr>\n",
       "    <tr>\n",
       "      <th>4</th>\n",
       "      <td>Amili's Pizzeria</td>\n",
       "      <td>NaN</td>\n",
       "      <td>2/26/1999</td>\n",
       "      <td>1021</td>\n",
       "      <td>Brownsville Rd</td>\n",
       "      <td>15210</td>\n",
       "      <td>40.406082</td>\n",
       "      <td>-79.991863</td>\n",
       "      <td>Take Out</td>\n",
       "    </tr>\n",
       "  </tbody>\n",
       "</table>\n",
       "</div>"
      ],
      "text/plain": [
       "                           Name                     Legal Name Start Date  \\\n",
       "0                Adrian's Pizza                            NaN  11/7/2014   \n",
       "1        Adrian's Pizza Express           Rock Enterprises Inc  4/22/2004   \n",
       "2       Allegheny Sandwich Shop                            NaN  2/24/1997   \n",
       "3  Allegheny Sandwich Shoppe #3  Allegheny Sandwich Shoppe Inc  11/9/2001   \n",
       "4              Amili's Pizzeria                            NaN  2/26/1999   \n",
       "\n",
       "  Street Number      Street Name  ZIP Code        Lat        Lon  \\\n",
       "0           605  Thompson Run Rd     15237  40.539465 -79.990764   \n",
       "1          7824        Perry Hwy     15237  40.551219 -80.037362   \n",
       "2           414         Grant St     15219  40.438110 -79.996860   \n",
       "3           440          Ross St     15219  40.438514 -79.995330   \n",
       "4          1021   Brownsville Rd     15210  40.406082 -79.991863   \n",
       "\n",
       "         Category  \n",
       "0        Take Out  \n",
       "1        Take Out  \n",
       "2  NO Dollar Menu  \n",
       "3  NO Dollar Menu  \n",
       "4        Take Out  "
      ]
     },
     "execution_count": 1,
     "metadata": {},
     "output_type": "execute_result"
    }
   ],
   "source": [
    "# import necessary libraries\n",
    "import pandas as pd\n",
    "import matplotlib.pyplot as plt\n",
    "\n",
    "# Load the dataset\n",
    "url = \"https://data.wprdc.org/dataset/c34f9a82-779c-4f90-9e1c-b3b5025b0db5/resource/3c530161-2976-41ae-a0f0-7d3e74835049/download/fastfoodalleghenycountyupdatexy2.csv\"\n",
    "fast_food_data = pd.read_csv(url)\n",
    "\n",
    "# Display the first few rows of the dataset to understand the format\n",
    "fast_food_data.head()"
   ]
  },
  {
   "cell_type": "markdown",
   "metadata": {},
   "source": [
    "The sub-metric I chose based on this dataset is the total count of fast food restuarants for each given neighborhood. I chose this metric for the following reasons.\n",
    "\n",
    "1. **Accessibility and Convenience**: A high number of fast food restaurants can indicate good accessibility to different food options within the neighborhood. This can be particularly important for individuals who rely on convenience (college students) or have limited mobility.\n",
    "2. **Overall Economic Activity**: A high concentration of fast food restaurants likely represent a thriving local economy and a high number of potential job opportunities in the area.\n",
    "3. **Rising Urban Development**: An increase in fast food restaurants could be a sign of ongoing urban development, which might attract investment and lead to improvements in infrastructure and amenities.\n",
    "4. **Cultural Diversity**: Provides a reflection of the cultural diversity of the neighborhood; a higher count of fast food restaurants could indicate a culturally diverse community.\n",
    "\n",
    "The following code calculates the total number of fast food restaurants for each given zip code, sorts the zip codes based on the total number of restaurants in descending order, converts them to their corresponding neighborhoods, and finally visualizes them in a table along with a bar graph."
   ]
  },
  {
   "cell_type": "code",
   "execution_count": 5,
   "metadata": {},
   "outputs": [
    {
     "name": "stdout",
     "output_type": "stream",
     "text": [
      "                      Neighborhood  Total Fast Food Restaurants\n",
      "209                    Monroeville                           51\n",
      "697       Downtown, Strip District                           46\n",
      "689                       McKnight                           44\n",
      "523                        Oakland                           38\n",
      "644              Robinson, Crafton                           36\n",
      "163  Station Square, Hill District                           27\n",
      "623                 Pleasant Hills                           25\n",
      "343                     Penn Hills                           22\n",
      "194                    Bethel Park                           21\n",
      "830                  Squirrel Hill                           20\n"
     ]
    },
    {
     "data": {
      "image/png": "[encoded data removed]",
      "text/plain": [
       "<Figure size 720x432 with 1 Axes>"
      ]
     },
     "metadata": {
      "needs_background": "light"
     },
     "output_type": "display_data"
    }
   ],
   "source": [
    "# Calculate the total number of fast food restaurants in each ZIP code\n",
    "fast_food_data['total_fast_food'] = fast_food_data.groupby('ZIP Code')['Category'].transform('count')\n",
    "\n",
    "# Sort ZIP codes by the total number of fast food restaurants\n",
    "sorted_data = fast_food_data.sort_values(by='total_fast_food', ascending=False)\n",
    "top_zipcodes = sorted_data[['ZIP Code', 'total_fast_food']].drop_duplicates().head(10)\n",
    "\n",
    "neighborhoods = [\n",
    "    'Monroeville', \n",
    "    'Downtown, Strip District', \n",
    "    'McKnight', \n",
    "    'Oakland', \n",
    "    'Robinson, Crafton', \n",
    "    'Station Square, Hill District', \n",
    "    'Pleasant Hills', \n",
    "    'Penn Hills', \n",
    "    'Bethel Park', \n",
    "    'Squirrel Hill'\n",
    "]\n",
    "\n",
    "# Create a DataFrame for the top neighborhoods with the highest number of fast food restaurants\n",
    "top_neighborhoods = pd.DataFrame({\n",
    "    'Neighborhood': neighborhoods,\n",
    "    'Total Fast Food Restaurants': top_zipcodes['total_fast_food']\n",
    "})\n",
    "\n",
    "# Display the top neighborhoods with the highest number of fast food restaurants\n",
    "print(top_neighborhoods)\n",
    "\n",
    "# Visualize the top neighborhoods with the highest number of fast food restaurants\n",
    "plt.figure(figsize=(10, 6))\n",
    "plt.bar(top_neighborhoods['Neighborhood'], top_neighborhoods['Total Fast Food Restaurants'])\n",
    "plt.xlabel('Neighborhood')\n",
    "plt.ylabel('Total Fast Food Restaurants')\n",
    "plt.title('Top 10 Pittsburgh Neighborhoods with Highest Number of Fast Food Restaurants')\n",
    "plt.xticks(rotation=45, ha='right')\n",
    "plt.tight_layout()\n",
    "plt.show()"
   ]
  },
  {
   "cell_type": "markdown",
   "metadata": {},
   "source": [
    "The results displayed in the visualizations represent the top 10 Pittsburgh neighborhoods with the highest number of fast food restaurants. This information can be valuable for potential residents, business owners, and policymakers interested in understanding food options and economic dynamics within the given neighborhoods. Overall, the results suggest that *most* areas with a high number of fast food restaurants have a higher population density, and more commercial activity. \n",
    "\n",
    "To conclude, according to the sub-metric of total fast food restaurants, the best neighborhood in Pittsburgh is Monroeville, with Downtown/Strip District and McKnight following close behind. "
   ]
  },
  {
   "cell_type": "markdown",
   "metadata": {},
   "source": [
    "---\n",
    "Data Set 2 will analyze the median age at death for each neighborhood in Pittsburgh. This metric gives a better rank to neighborhoods that have a higher median age at death."
   ]
  },
  {
   "cell_type": "code",
   "execution_count": 1,
   "metadata": {},
   "outputs": [],
   "source": [
    "import pandas as pd\n",
    "import matplotlib.pyplot as plt\n",
    "import numpy as np"
   ]
  },
  {
   "cell_type": "markdown",
   "metadata": {},
   "source": [
    "Import the data set into a pandas dataframe."
   ]
  },
  {
   "cell_type": "code",
   "execution_count": 2,
   "metadata": {},
   "outputs": [],
   "source": [
    "url = \"https://data.wprdc.org/dataset/ee735209-4de7-4ea4-b446-bf0f0f6d9cb3/resource/c2e1500a-a12a-4e91-be94-76c6a892b7e2/download/nhoodmedianage20112015.csv\"\n",
    "death_data_df = pd.read_csv(url)"
   ]
  },
  {
   "cell_type": "markdown",
   "metadata": {},
   "source": [
    "Print out the head of the df to see how our df is formatted."
   ]
  },
  {
   "cell_type": "code",
   "execution_count": 3,
   "metadata": {},
   "outputs": [
    {
     "data": {
      "text/html": [
       "<div>\n",
       "<style scoped>\n",
       "    .dataframe tbody tr th:only-of-type {\n",
       "        vertical-align: middle;\n",
       "    }\n",
       "\n",
       "    .dataframe tbody tr th {\n",
       "        vertical-align: top;\n",
       "    }\n",
       "\n",
       "    .dataframe thead th {\n",
       "        text-align: right;\n",
       "    }\n",
       "</style>\n",
       "<table border=\"1\" class=\"dataframe\">\n",
       "  <thead>\n",
       "    <tr style=\"text-align: right;\">\n",
       "      <th></th>\n",
       "      <th>NEIGHBORHOOD</th>\n",
       "      <th>BLACKdeaths</th>\n",
       "      <th>Black MD AGE AT DEATH</th>\n",
       "      <th>WHITEdeaths</th>\n",
       "      <th>White MD AGE AT DEATH</th>\n",
       "      <th>TOTALdeaths*</th>\n",
       "      <th>TOTAL MD AGE AT DEATH</th>\n",
       "    </tr>\n",
       "  </thead>\n",
       "  <tbody>\n",
       "    <tr>\n",
       "      <th>0</th>\n",
       "      <td>SOUTH SHORE</td>\n",
       "      <td>0.0</td>\n",
       "      <td>0.0</td>\n",
       "      <td>0.0</td>\n",
       "      <td>0.0</td>\n",
       "      <td>0.0</td>\n",
       "      <td>0.0</td>\n",
       "    </tr>\n",
       "    <tr>\n",
       "      <th>1</th>\n",
       "      <td>CHATEAU</td>\n",
       "      <td>0.0</td>\n",
       "      <td>0.0</td>\n",
       "      <td>2.0</td>\n",
       "      <td>NaN</td>\n",
       "      <td>2.0</td>\n",
       "      <td>NaN</td>\n",
       "    </tr>\n",
       "    <tr>\n",
       "      <th>2</th>\n",
       "      <td>NORTH SHORE</td>\n",
       "      <td>0.0</td>\n",
       "      <td>0.0</td>\n",
       "      <td>4.0</td>\n",
       "      <td>NaN</td>\n",
       "      <td>5.0</td>\n",
       "      <td>80.0</td>\n",
       "    </tr>\n",
       "    <tr>\n",
       "      <th>3</th>\n",
       "      <td>ALLEGHENY WEST</td>\n",
       "      <td>3.0</td>\n",
       "      <td>NaN</td>\n",
       "      <td>4.0</td>\n",
       "      <td>NaN</td>\n",
       "      <td>8.0</td>\n",
       "      <td>65.0</td>\n",
       "    </tr>\n",
       "    <tr>\n",
       "      <th>4</th>\n",
       "      <td>SAINT CLAIR</td>\n",
       "      <td>5.0</td>\n",
       "      <td>67.5</td>\n",
       "      <td>5.0</td>\n",
       "      <td>67.5</td>\n",
       "      <td>10.0</td>\n",
       "      <td>67.5</td>\n",
       "    </tr>\n",
       "  </tbody>\n",
       "</table>\n",
       "</div>"
      ],
      "text/plain": [
       "     NEIGHBORHOOD  BLACKdeaths  Black MD AGE AT DEATH  WHITEdeaths  \\\n",
       "0     SOUTH SHORE          0.0                    0.0          0.0   \n",
       "1         CHATEAU          0.0                    0.0          2.0   \n",
       "2     NORTH SHORE          0.0                    0.0          4.0   \n",
       "3  ALLEGHENY WEST          3.0                    NaN          4.0   \n",
       "4     SAINT CLAIR          5.0                   67.5          5.0   \n",
       "\n",
       "   White MD AGE AT DEATH  TOTALdeaths*  TOTAL MD AGE AT DEATH  \n",
       "0                    0.0           0.0                    0.0  \n",
       "1                    NaN           2.0                    NaN  \n",
       "2                    NaN           5.0                   80.0  \n",
       "3                    NaN           8.0                   65.0  \n",
       "4                   67.5          10.0                   67.5  "
      ]
     },
     "execution_count": 3,
     "metadata": {},
     "output_type": "execute_result"
    }
   ],
   "source": [
    "death_data_df.head()"
   ]
  },
  {
   "cell_type": "markdown",
   "metadata": {},
   "source": [
    "Since a lot of the rows in the TOTAL MD AGE AT DEATH column contain Nan, lets drop those rows."
   ]
  },
  {
   "cell_type": "code",
   "execution_count": 4,
   "metadata": {},
   "outputs": [],
   "source": [
    "death_data_df.dropna(subset=['TOTAL MD AGE AT DEATH'], inplace=True)"
   ]
  },
  {
   "cell_type": "markdown",
   "metadata": {},
   "source": [
    "Lets plot the metric we care about which is th TOTAL MD AGE AT DEATH for each NEIGHBORHOOD."
   ]
  },
  {
   "cell_type": "code",
   "execution_count": 5,
   "metadata": {},
   "outputs": [
    {
     "data": {
      "image/png": "[encoded data removed]",
      "text/plain": [
       "<Figure size 1800x432 with 1 Axes>"
      ]
     },
     "metadata": {
      "needs_background": "light"
     },
     "output_type": "display_data"
    }
   ],
   "source": [
    "plt.figure(figsize=(25, 6))\n",
    "plt.bar(death_data_df['NEIGHBORHOOD'], death_data_df['TOTAL MD AGE AT DEATH'])\n",
    "plt.xlabel('Neighborhood')\n",
    "plt.ylabel('Total md age at death')\n",
    "plt.title('Median Age at Death by Neighborhood')\n",
    "plt.xticks(rotation=90)\n",
    "plt.show()"
   ]
  },
  {
   "cell_type": "markdown",
   "metadata": {},
   "source": [
    "Lets rank the neighborhoods from highest TOTAL MD AGE AT DEATH to the lowest."
   ]
  },
  {
   "cell_type": "code",
   "execution_count": 6,
   "metadata": {},
   "outputs": [
    {
     "name": "stdout",
     "output_type": "stream",
     "text": [
      "           NEIGHBORHOOD  TOTAL MD AGE AT DEATH  RANK\n",
      "0   SQUIRREL HILL SOUTH                   85.9   1.0\n",
      "1         NORTH OAKLAND                   85.6   2.0\n",
      "2            BANKSVILLE                   85.5   3.0\n",
      "3          POINT BREEZE                   85.1   4.0\n",
      "4   SQUIRREL HILL NORTH                   85.0   5.0\n",
      "..                  ...                    ...   ...\n",
      "84       EAST ALLEGHENY                   66.2  85.0\n",
      "85       ALLEGHENY WEST                   65.0  86.0\n",
      "86    ARLINGTON HEIGHTS                   63.7  87.0\n",
      "87            FAIRYWOOD                   53.3  88.0\n",
      "88          SOUTH SHORE                    0.0  89.0\n",
      "\n",
      "[89 rows x 3 columns]\n"
     ]
    }
   ],
   "source": [
    "ranked_neighborhood_df = death_data_df[['NEIGHBORHOOD', 'TOTAL MD AGE AT DEATH']].copy()\n",
    "ranked_neighborhood_df['RANK'] = ranked_neighborhood_df['TOTAL MD AGE AT DEATH'].rank(ascending=False)\n",
    "ranked_neighborhood_df = ranked_neighborhood_df.sort_values(by='RANK')\n",
    "ranked_neighborhood_df.reset_index(drop=True, inplace=True)\n",
    "print(ranked_neighborhood_df)"
   ]
  },
  {
   "cell_type": "markdown",
   "metadata": {},
   "source": [
    "Thats it! The ranked_neighborhood_df now contains all of the neighborhoods in Pittsburgh along with their respective rank."
   ]
  },
  {
   "cell_type": "markdown",
   "metadata": {},
   "source": [
    "---"
   ]
  },
  {
   "cell_type": "markdown",
   "metadata": {},
   "source": [
    "Dataset 3 will analyze average pollution across several locations around Pittsburgh to determine their relative air qualities. This metric better describes \"worstness\" than it does \"bestness,\" so each location will receive a detriment to their scores calculated from the first two datasets."
   ]
  },
  {
   "cell_type": "markdown",
   "metadata": {},
   "source": [
    "The Air Quality data was filtered from the WPRDC website and downloaded as a CSV file, so that will be the dataset we work with."
   ]
  },
  {
   "cell_type": "code",
   "execution_count": 2,
   "metadata": {},
   "outputs": [
    {
     "data": {
      "text/html": [
       "<div>\n",
       "<style scoped>\n",
       "    .dataframe tbody tr th:only-of-type {\n",
       "        vertical-align: middle;\n",
       "    }\n",
       "\n",
       "    .dataframe tbody tr th {\n",
       "        vertical-align: top;\n",
       "    }\n",
       "\n",
       "    .dataframe thead th {\n",
       "        text-align: right;\n",
       "    }\n",
       "</style>\n",
       "<table border=\"1\" class=\"dataframe\">\n",
       "  <thead>\n",
       "    <tr style=\"text-align: right;\">\n",
       "      <th></th>\n",
       "      <th>_id</th>\n",
       "      <th>site</th>\n",
       "      <th>parameter</th>\n",
       "      <th>is_valid</th>\n",
       "      <th>report_value</th>\n",
       "      <th>unit</th>\n",
       "      <th>unit_description</th>\n",
       "      <th>highest_flag</th>\n",
       "      <th>aqs_parameter_category</th>\n",
       "    </tr>\n",
       "    <tr>\n",
       "      <th>datetime_est</th>\n",
       "      <th></th>\n",
       "      <th></th>\n",
       "      <th></th>\n",
       "      <th></th>\n",
       "      <th></th>\n",
       "      <th></th>\n",
       "      <th></th>\n",
       "      <th></th>\n",
       "      <th></th>\n",
       "    </tr>\n",
       "  </thead>\n",
       "  <tbody>\n",
       "    <tr>\n",
       "      <th>2021-10-07 15:00:00</th>\n",
       "      <td>5293192</td>\n",
       "      <td>Avalon</td>\n",
       "      <td>SO2</td>\n",
       "      <td>t</td>\n",
       "      <td>0.037</td>\n",
       "      <td>PPM</td>\n",
       "      <td>Parts Per Million</td>\n",
       "      <td>NaN</td>\n",
       "      <td>Criteria Pollutants</td>\n",
       "    </tr>\n",
       "    <tr>\n",
       "      <th>2021-10-16 11:00:00</th>\n",
       "      <td>5316958</td>\n",
       "      <td>Avalon</td>\n",
       "      <td>SO2</td>\n",
       "      <td>t</td>\n",
       "      <td>0.037</td>\n",
       "      <td>PPM</td>\n",
       "      <td>Parts Per Million</td>\n",
       "      <td>NaN</td>\n",
       "      <td>Criteria Pollutants</td>\n",
       "    </tr>\n",
       "    <tr>\n",
       "      <th>2021-10-07 14:00:00</th>\n",
       "      <td>5293169</td>\n",
       "      <td>Avalon</td>\n",
       "      <td>SO2</td>\n",
       "      <td>t</td>\n",
       "      <td>0.037</td>\n",
       "      <td>PPM</td>\n",
       "      <td>Parts Per Million</td>\n",
       "      <td>NaN</td>\n",
       "      <td>Criteria Pollutants</td>\n",
       "    </tr>\n",
       "    <tr>\n",
       "      <th>2021-10-15 15:00:00</th>\n",
       "      <td>5314718</td>\n",
       "      <td>Avalon</td>\n",
       "      <td>SO2</td>\n",
       "      <td>t</td>\n",
       "      <td>0.035</td>\n",
       "      <td>PPM</td>\n",
       "      <td>Parts Per Million</td>\n",
       "      <td>NaN</td>\n",
       "      <td>Criteria Pollutants</td>\n",
       "    </tr>\n",
       "    <tr>\n",
       "      <th>2021-10-16 10:00:00</th>\n",
       "      <td>5316891</td>\n",
       "      <td>Avalon</td>\n",
       "      <td>SO2</td>\n",
       "      <td>t</td>\n",
       "      <td>0.037</td>\n",
       "      <td>PPM</td>\n",
       "      <td>Parts Per Million</td>\n",
       "      <td>NaN</td>\n",
       "      <td>Criteria Pollutants</td>\n",
       "    </tr>\n",
       "    <tr>\n",
       "      <th>...</th>\n",
       "      <td>...</td>\n",
       "      <td>...</td>\n",
       "      <td>...</td>\n",
       "      <td>...</td>\n",
       "      <td>...</td>\n",
       "      <td>...</td>\n",
       "      <td>...</td>\n",
       "      <td>...</td>\n",
       "      <td>...</td>\n",
       "    </tr>\n",
       "    <tr>\n",
       "      <th>2023-11-24 23:00:00</th>\n",
       "      <td>7936589</td>\n",
       "      <td>North Braddock</td>\n",
       "      <td>SO2</td>\n",
       "      <td>t</td>\n",
       "      <td>0.000</td>\n",
       "      <td>PPM</td>\n",
       "      <td>Parts Per Million</td>\n",
       "      <td>NaN</td>\n",
       "      <td>Criteria Pollutants</td>\n",
       "    </tr>\n",
       "    <tr>\n",
       "      <th>2023-06-16 12:00:00</th>\n",
       "      <td>7310018</td>\n",
       "      <td>North Braddock</td>\n",
       "      <td>H2S</td>\n",
       "      <td>t</td>\n",
       "      <td>0.000</td>\n",
       "      <td>PPM</td>\n",
       "      <td>Parts Per Million</td>\n",
       "      <td>NaN</td>\n",
       "      <td>NaN</td>\n",
       "    </tr>\n",
       "    <tr>\n",
       "      <th>2022-11-19 20:00:00</th>\n",
       "      <td>6372113</td>\n",
       "      <td>North Braddock</td>\n",
       "      <td>H2S</td>\n",
       "      <td>t</td>\n",
       "      <td>0.000</td>\n",
       "      <td>PPM</td>\n",
       "      <td>Parts Per Million</td>\n",
       "      <td>NaN</td>\n",
       "      <td>NaN</td>\n",
       "    </tr>\n",
       "    <tr>\n",
       "      <th>2023-05-29 06:00:00</th>\n",
       "      <td>7246385</td>\n",
       "      <td>North Braddock</td>\n",
       "      <td>H2S</td>\n",
       "      <td>t</td>\n",
       "      <td>0.002</td>\n",
       "      <td>PPM</td>\n",
       "      <td>Parts Per Million</td>\n",
       "      <td>NaN</td>\n",
       "      <td>NaN</td>\n",
       "    </tr>\n",
       "    <tr>\n",
       "      <th>2022-11-19 20:00:00</th>\n",
       "      <td>6372112</td>\n",
       "      <td>North Braddock</td>\n",
       "      <td>H2S_SO2</td>\n",
       "      <td>t</td>\n",
       "      <td>0.002</td>\n",
       "      <td>PPM</td>\n",
       "      <td>Parts Per Million</td>\n",
       "      <td>NaN</td>\n",
       "      <td>NaN</td>\n",
       "    </tr>\n",
       "  </tbody>\n",
       "</table>\n",
       "<p>736000 rows × 9 columns</p>\n",
       "</div>"
      ],
      "text/plain": [
       "                         _id            site parameter is_valid  report_value  \\\n",
       "datetime_est                                                                    \n",
       "2021-10-07 15:00:00  5293192          Avalon       SO2        t         0.037   \n",
       "2021-10-16 11:00:00  5316958          Avalon       SO2        t         0.037   \n",
       "2021-10-07 14:00:00  5293169          Avalon       SO2        t         0.037   \n",
       "2021-10-15 15:00:00  5314718          Avalon       SO2        t         0.035   \n",
       "2021-10-16 10:00:00  5316891          Avalon       SO2        t         0.037   \n",
       "...                      ...             ...       ...      ...           ...   \n",
       "2023-11-24 23:00:00  7936589  North Braddock       SO2        t         0.000   \n",
       "2023-06-16 12:00:00  7310018  North Braddock       H2S        t         0.000   \n",
       "2022-11-19 20:00:00  6372113  North Braddock       H2S        t         0.000   \n",
       "2023-05-29 06:00:00  7246385  North Braddock       H2S        t         0.002   \n",
       "2022-11-19 20:00:00  6372112  North Braddock   H2S_SO2        t         0.002   \n",
       "\n",
       "                    unit   unit_description highest_flag  \\\n",
       "datetime_est                                               \n",
       "2021-10-07 15:00:00  PPM  Parts Per Million          NaN   \n",
       "2021-10-16 11:00:00  PPM  Parts Per Million          NaN   \n",
       "2021-10-07 14:00:00  PPM  Parts Per Million          NaN   \n",
       "2021-10-15 15:00:00  PPM  Parts Per Million          NaN   \n",
       "2021-10-16 10:00:00  PPM  Parts Per Million          NaN   \n",
       "...                  ...                ...          ...   \n",
       "2023-11-24 23:00:00  PPM  Parts Per Million          NaN   \n",
       "2023-06-16 12:00:00  PPM  Parts Per Million          NaN   \n",
       "2022-11-19 20:00:00  PPM  Parts Per Million          NaN   \n",
       "2023-05-29 06:00:00  PPM  Parts Per Million          NaN   \n",
       "2022-11-19 20:00:00  PPM  Parts Per Million          NaN   \n",
       "\n",
       "                    aqs_parameter_category  \n",
       "datetime_est                                \n",
       "2021-10-07 15:00:00    Criteria Pollutants  \n",
       "2021-10-16 11:00:00    Criteria Pollutants  \n",
       "2021-10-07 14:00:00    Criteria Pollutants  \n",
       "2021-10-15 15:00:00    Criteria Pollutants  \n",
       "2021-10-16 10:00:00    Criteria Pollutants  \n",
       "...                                    ...  \n",
       "2023-11-24 23:00:00    Criteria Pollutants  \n",
       "2023-06-16 12:00:00                    NaN  \n",
       "2022-11-19 20:00:00                    NaN  \n",
       "2023-05-29 06:00:00                    NaN  \n",
       "2022-11-19 20:00:00                    NaN  \n",
       "\n",
       "[736000 rows x 9 columns]"
      ]
     },
     "execution_count": 2,
     "metadata": {},
     "output_type": "execute_result"
    }
   ],
   "source": [
    "data = pd.read_csv(\"Pollutants.csv\",index_col = \"datetime_est\", parse_dates = True)\n",
    "data"
   ]
  },
  {
   "cell_type": "markdown",
   "metadata": {},
   "source": [
    "Since there is so much variation both in kinds of pollutants captured and when they were captured in each location, the best plan here is to take a long time average over all the data we have. Each site will have lots of data to average, so we will first filter by site."
   ]
  },
  {
   "cell_type": "code",
   "execution_count": 3,
   "metadata": {},
   "outputs": [],
   "source": [
    "mask = data[\"site\"] == \"Avalon\"\n",
    "masked = data[mask]"
   ]
  },
  {
   "cell_type": "markdown",
   "metadata": {},
   "source": [
    "Then we have to get rid of any negative measurements that will mess with the averages. We can't have negative pollution, after all!"
   ]
  },
  {
   "cell_type": "code",
   "execution_count": 4,
   "metadata": {},
   "outputs": [],
   "source": [
    "negmask = masked[\"report_value\"] >= 0.0\n",
    "nonegs = masked[negmask]"
   ]
  },
  {
   "cell_type": "markdown",
   "metadata": {},
   "source": [
    "Now we'll need to split it up by pollutants to average them separately. Let's start with SO2."
   ]
  },
  {
   "cell_type": "code",
   "execution_count": 5,
   "metadata": {},
   "outputs": [],
   "source": [
    "mask2 = nonegs[\"parameter\"] == \"SO2\"\n",
    "masked2 = nonegs[mask2]"
   ]
  },
  {
   "cell_type": "markdown",
   "metadata": {},
   "source": [
    "We can take the average of the report values and start compiling a dataframe pollutant-by-pollutant and site-by-site."
   ]
  },
  {
   "cell_type": "code",
   "execution_count": 6,
   "metadata": {},
   "outputs": [
    {
     "data": {
      "text/plain": [
       "parameter         SO2\n",
       "Avalon       0.001781\n",
       "dtype: object"
      ]
     },
     "execution_count": 6,
     "metadata": {},
     "output_type": "execute_result"
    }
   ],
   "source": [
    "average = masked2[\"report_value\"].mean()\n",
    "frame = pd.Series({\"parameter\":\"SO2\",\"Avalon\":average})\n",
    "frame"
   ]
  },
  {
   "cell_type": "markdown",
   "metadata": {},
   "source": [
    "Let's repeat this process for each site and each pollutant within each site, then compile it all into one dataframe."
   ]
  },
  {
   "cell_type": "code",
   "execution_count": 7,
   "metadata": {},
   "outputs": [
    {
     "data": {
      "text/html": [
       "<div>\n",
       "<style scoped>\n",
       "    .dataframe tbody tr th:only-of-type {\n",
       "        vertical-align: middle;\n",
       "    }\n",
       "\n",
       "    .dataframe tbody tr th {\n",
       "        vertical-align: top;\n",
       "    }\n",
       "\n",
       "    .dataframe thead th {\n",
       "        text-align: right;\n",
       "    }\n",
       "</style>\n",
       "<table border=\"1\" class=\"dataframe\">\n",
       "  <thead>\n",
       "    <tr style=\"text-align: right;\">\n",
       "      <th></th>\n",
       "      <th>SO2</th>\n",
       "      <th>H2S_SO2</th>\n",
       "      <th>H2S</th>\n",
       "      <th>SO2PPM</th>\n",
       "      <th>OZONE</th>\n",
       "      <th>NO</th>\n",
       "      <th>NO2</th>\n",
       "      <th>NOX</th>\n",
       "      <th>OZONE2</th>\n",
       "      <th>OZONE_B</th>\n",
       "    </tr>\n",
       "  </thead>\n",
       "  <tbody>\n",
       "    <tr>\n",
       "      <th>Avalon</th>\n",
       "      <td>0.001781</td>\n",
       "      <td>0.000498</td>\n",
       "      <td>0.000114</td>\n",
       "      <td>NaN</td>\n",
       "      <td>NaN</td>\n",
       "      <td>NaN</td>\n",
       "      <td>NaN</td>\n",
       "      <td>NaN</td>\n",
       "      <td>NaN</td>\n",
       "      <td>NaN</td>\n",
       "    </tr>\n",
       "    <tr>\n",
       "      <th>Clairton</th>\n",
       "      <td>0.001408</td>\n",
       "      <td>NaN</td>\n",
       "      <td>NaN</td>\n",
       "      <td>NaN</td>\n",
       "      <td>NaN</td>\n",
       "      <td>NaN</td>\n",
       "      <td>NaN</td>\n",
       "      <td>NaN</td>\n",
       "      <td>NaN</td>\n",
       "      <td>NaN</td>\n",
       "    </tr>\n",
       "    <tr>\n",
       "      <th>Court House</th>\n",
       "      <td>NaN</td>\n",
       "      <td>NaN</td>\n",
       "      <td>NaN</td>\n",
       "      <td>0.00269</td>\n",
       "      <td>NaN</td>\n",
       "      <td>NaN</td>\n",
       "      <td>NaN</td>\n",
       "      <td>NaN</td>\n",
       "      <td>NaN</td>\n",
       "      <td>NaN</td>\n",
       "    </tr>\n",
       "    <tr>\n",
       "      <th>Harrison Township</th>\n",
       "      <td>NaN</td>\n",
       "      <td>NaN</td>\n",
       "      <td>NaN</td>\n",
       "      <td>NaN</td>\n",
       "      <td>0.026216</td>\n",
       "      <td>0.001528</td>\n",
       "      <td>0.005831</td>\n",
       "      <td>0.007789</td>\n",
       "      <td>0.028511</td>\n",
       "      <td>0.023206</td>\n",
       "    </tr>\n",
       "    <tr>\n",
       "      <th>Lawrenceville</th>\n",
       "      <td>NaN</td>\n",
       "      <td>NaN</td>\n",
       "      <td>NaN</td>\n",
       "      <td>NaN</td>\n",
       "      <td>0.025524</td>\n",
       "      <td>NaN</td>\n",
       "      <td>NaN</td>\n",
       "      <td>NaN</td>\n",
       "      <td>0.02518</td>\n",
       "      <td>NaN</td>\n",
       "    </tr>\n",
       "    <tr>\n",
       "      <th>Liberty</th>\n",
       "      <td>0.003257</td>\n",
       "      <td>0.005839</td>\n",
       "      <td>0.002324</td>\n",
       "      <td>NaN</td>\n",
       "      <td>NaN</td>\n",
       "      <td>NaN</td>\n",
       "      <td>NaN</td>\n",
       "      <td>NaN</td>\n",
       "      <td>NaN</td>\n",
       "      <td>NaN</td>\n",
       "    </tr>\n",
       "    <tr>\n",
       "      <th>North Braddock</th>\n",
       "      <td>0.001452</td>\n",
       "      <td>0.003143</td>\n",
       "      <td>0.001443</td>\n",
       "      <td>NaN</td>\n",
       "      <td>NaN</td>\n",
       "      <td>NaN</td>\n",
       "      <td>NaN</td>\n",
       "      <td>NaN</td>\n",
       "      <td>NaN</td>\n",
       "      <td>NaN</td>\n",
       "    </tr>\n",
       "  </tbody>\n",
       "</table>\n",
       "</div>"
      ],
      "text/plain": [
       "                        SO2   H2S_SO2       H2S   SO2PPM     OZONE        NO  \\\n",
       "Avalon             0.001781  0.000498  0.000114      NaN       NaN       NaN   \n",
       "Clairton           0.001408       NaN       NaN      NaN       NaN       NaN   \n",
       "Court House             NaN       NaN       NaN  0.00269       NaN       NaN   \n",
       "Harrison Township       NaN       NaN       NaN      NaN  0.026216  0.001528   \n",
       "Lawrenceville           NaN       NaN       NaN      NaN  0.025524       NaN   \n",
       "Liberty            0.003257  0.005839  0.002324      NaN       NaN       NaN   \n",
       "North Braddock     0.001452  0.003143  0.001443      NaN       NaN       NaN   \n",
       "\n",
       "                        NO2       NOX    OZONE2   OZONE_B  \n",
       "Avalon                  NaN       NaN       NaN       NaN  \n",
       "Clairton                NaN       NaN       NaN       NaN  \n",
       "Court House             NaN       NaN       NaN       NaN  \n",
       "Harrison Township  0.005831  0.007789  0.028511  0.023206  \n",
       "Lawrenceville           NaN       NaN   0.02518       NaN  \n",
       "Liberty                 NaN       NaN       NaN       NaN  \n",
       "North Braddock          NaN       NaN       NaN       NaN  "
      ]
     },
     "execution_count": 7,
     "metadata": {},
     "output_type": "execute_result"
    }
   ],
   "source": [
    "arr = []\n",
    "for site in data[\"site\"].unique():\n",
    "    mask = data[\"site\"] == site\n",
    "    masked = data[mask]\n",
    "    negmask = masked[\"report_value\"] >= 0.0\n",
    "    nonegs = masked[negmask]\n",
    "    arr2 = []\n",
    "    arr3 = []\n",
    "    for poll in nonegs[\"parameter\"].unique():\n",
    "        mask2 = nonegs[\"parameter\"] == poll\n",
    "        masked2 = nonegs[mask2]\n",
    "        arr2.append(masked2[\"report_value\"].mean())\n",
    "        arr3.append(poll)\n",
    "    frame = pd.DataFrame({\"parameter\": arr3, site : arr2})\n",
    "    frame = frame.transpose()\n",
    "    frame.columns = frame.loc[\"parameter\"]\n",
    "    frame.columns.name = ''\n",
    "    frame = frame.drop(labels = \"parameter\", axis = 0)\n",
    "    arr.append(frame)\n",
    "plsgraph = pd.concat(arr)\n",
    "plsgraph"
   ]
  },
  {
   "cell_type": "markdown",
   "metadata": {},
   "source": [
    "Uh oh, that's a lot of NaN's. We can still graph what we have, but we'll need a better way of scoring each location, since they don't all have the same kinds of pollution."
   ]
  },
  {
   "cell_type": "code",
   "execution_count": 8,
   "metadata": {},
   "outputs": [
    {
     "data": {
      "text/plain": [
       "<matplotlib.legend.Legend at 0x7f5d303aedc0>"
      ]
     },
     "execution_count": 8,
     "metadata": {},
     "output_type": "execute_result"
    },
    {
     "data": {
      "image/png": "[encoded data removed]",
      "text/plain": [
       "<Figure size 432x288 with 1 Axes>"
      ]
     },
     "metadata": {
      "needs_background": "light"
     },
     "output_type": "display_data"
    }
   ],
   "source": [
    "plsgraph = plsgraph.drop(labels = \"Court House\", axis = 0)\n",
    "plsgraph.plot(kind = \"bar\", title = \"Average Pollution since 2016\", ylabel = \"Concentration (PPM)\", xlabel = \"Source Site\")\n",
    "plt.legend(bbox_to_anchor=(1.3,1))"
   ]
  },
  {
   "cell_type": "markdown",
   "metadata": {},
   "source": [
    "Honestly, that's not too bad considering all the NaN's. It seems like Harrison Township and Lawrenceville have the most pollution based on this graph, but we aren't taking into account the safety levels of each pollutant. We should be weighting the scores based on how bad each pollutant is to have in the air."
   ]
  },
  {
   "cell_type": "markdown",
   "metadata": {},
   "source": [
    "Based on OSHA and NIOSH recommendations, I listed out the different safety levels for each pollutant and a corresponding multiplier to get each value to 100.\n",
    "\n",
    "|Pollutant|Safe limit (PPM)|Multiplier|\n",
    "|---------|----------|----------|\n",
    "|SO2|5|20|\n",
    "|H2S|20|5|\n",
    "|NO|25|4|\n",
    "|Ozone|0.1|1000|\n",
    "|NOX|1|100|\n",
    "\n",
    "Since the multiplier for Ozone is so high, any location that has a lot of Ozone will have a pretty high weighted score, but places with more H2S won't have as high a score because it isn't as toxic to breathe."
   ]
  },
  {
   "cell_type": "markdown",
   "metadata": {},
   "source": [
    "So let's make a dictionary with the multipliers for all the different measurements based on the table above. In the case of H2S_SO2, which measures both at the same time, we will go with the SO2 multiplier, since it is worse to have in the air. Then, we can use it to generate a weighted score for each site, excluding the NaN's"
   ]
  },
  {
   "cell_type": "code",
   "execution_count": 9,
   "metadata": {},
   "outputs": [
    {
     "data": {
      "text/plain": [
       "Avalon                0.046141\n",
       "Clairton              0.028160\n",
       "Harrison Township    79.301553\n",
       "Lawrenceville        50.703754\n",
       "Liberty               0.193543\n",
       "North Braddock        0.099114\n",
       "dtype: float64"
      ]
     },
     "execution_count": 9,
     "metadata": {},
     "output_type": "execute_result"
    }
   ],
   "source": [
    "scores = {}\n",
    "multipliers = {\"SO2\":20, \"H2S\":5, \"H2S_SO2\":20, \"SO2PPM\":20, \"NO\":4, \"OZONE\":1000, \"NO2\":100, \"NOX\":100, \"OZONE2\":1000, \"OZONE_B\":1000}\n",
    "for index, row in plsgraph.iterrows():\n",
    "    total = 0\n",
    "    scorable = row.dropna()\n",
    "    for kind in scorable.index:\n",
    "        total = total + (scorable[kind] * multipliers[kind])\n",
    "    scores[index] = total\n",
    "scores = pd.Series(scores)\n",
    "scores"
   ]
  },
  {
   "cell_type": "markdown",
   "metadata": {},
   "source": [
    "And let's make sure to graph it for good measure."
   ]
  },
  {
   "cell_type": "code",
   "execution_count": 12,
   "metadata": {},
   "outputs": [
    {
     "data": {
      "text/plain": [
       "<matplotlib.axes._subplots.AxesSubplot at 0x7f375d96a730>"
      ]
     },
     "execution_count": 12,
     "metadata": {},
     "output_type": "execute_result"
    },
    {
     "data": {
      "image/png": "[encoded data removed]",
      "text/plain": [
       "<Figure size 432x288 with 1 Axes>"
      ]
     },
     "metadata": {
      "needs_background": "light"
     },
     "output_type": "display_data"
    }
   ],
   "source": [
    "scores.plot(kind=\"bar\",logy = True,ylabel= \"Score\", xlabel= \"Site\", title=\"Pollution Score by Site\")"
   ]
  },
  {
   "cell_type": "markdown",
   "metadata": {},
   "source": [
    "### Conclusion\n",
    "Based on the score values shown in the graph, historically, Harrison Township and Lawrenceville have the worst air quality out of the locations surveyed. As stated at the start, this submetric will act as a detriment to the submetrics calculated from the other two datasets. However, the top contenders from the other two datasets don't have any pollution data, so there is nothing to detract at the moment."
   ]
  },
  {
   "cell_type": "markdown",
   "metadata": {},
   "source": [
    "Now that we have analyzed all three datasets we can combine our rankings for each individual metric to determine which neighborhood is best overall with our combined metric"
   ]
  },
  {
   "cell_type": "markdown",
   "metadata": {},
   "source": [
    "Based on our combined metric the best neighborood overall is: "
   ]
  },
  {
   "cell_type": "markdown",
   "metadata": {},
   "source": [
    "Conclusions:\n",
    "\n",
    "Brian's Conclusion: "
   ]
  }
 ],
 "metadata": {
  "kernelspec": {
   "display_name": "Python 3",
   "language": "python",
   "name": "python3"
  },
  "language_info": {
   "codemirror_mode": {
    "name": "ipython",
    "version": 3
   },
   "file_extension": ".py",
   "mimetype": "text/x-python",
   "name": "python",
   "nbconvert_exporter": "python",
   "pygments_lexer": "ipython3",
   "version": "3.8.3"
  }
 },
 "nbformat": 4,
 "nbformat_minor": 4
}
