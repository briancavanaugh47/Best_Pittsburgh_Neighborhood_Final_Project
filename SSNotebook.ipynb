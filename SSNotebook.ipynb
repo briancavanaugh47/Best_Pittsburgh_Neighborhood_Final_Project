{
 "cells": [
  {
   "cell_type": "markdown",
   "metadata": {},
   "source": [
    "# Samuel Settie Final Notebook\n",
    "data set : https://data.wprdc.org/dataset/allegheny-county-fast-food\n",
    "\n",
    "The dataset keeps track of all the fast food restaurants without an alcohol permit within Allegheny County. This includes chain restaurants, as well as locally owned restaurants. It was last updated in 2016, and contains over 800 entries.\n",
    "\n",
    "First, I'll import the necessary libraries, load the dataset, and display the first few rows of the dataset."
   ]
  },
  {
   "cell_type": "code",
   "execution_count": 9,
   "metadata": {},
   "outputs": [
    {
     "data": {
      "text/html": [
       "<div>\n",
       "<style scoped>\n",
       "    .dataframe tbody tr th:only-of-type {\n",
       "        vertical-align: middle;\n",
       "    }\n",
       "\n",
       "    .dataframe tbody tr th {\n",
       "        vertical-align: top;\n",
       "    }\n",
       "\n",
       "    .dataframe thead th {\n",
       "        text-align: right;\n",
       "    }\n",
       "</style>\n",
       "<table border=\"1\" class=\"dataframe\">\n",
       "  <thead>\n",
       "    <tr style=\"text-align: right;\">\n",
       "      <th></th>\n",
       "      <th>Name</th>\n",
       "      <th>Legal Name</th>\n",
       "      <th>Start Date</th>\n",
       "      <th>Street Number</th>\n",
       "      <th>Street Name</th>\n",
       "      <th>ZIP Code</th>\n",
       "      <th>Lat</th>\n",
       "      <th>Lon</th>\n",
       "      <th>Category</th>\n",
       "    </tr>\n",
       "  </thead>\n",
       "  <tbody>\n",
       "    <tr>\n",
       "      <th>0</th>\n",
       "      <td>Adrian's Pizza</td>\n",
       "      <td>NaN</td>\n",
       "      <td>11/7/2014</td>\n",
       "      <td>605</td>\n",
       "      <td>Thompson Run Rd</td>\n",
       "      <td>15237</td>\n",
       "      <td>40.539465</td>\n",
       "      <td>-79.990764</td>\n",
       "      <td>Take Out</td>\n",
       "    </tr>\n",
       "    <tr>\n",
       "      <th>1</th>\n",
       "      <td>Adrian's Pizza Express</td>\n",
       "      <td>Rock Enterprises Inc</td>\n",
       "      <td>4/22/2004</td>\n",
       "      <td>7824</td>\n",
       "      <td>Perry Hwy</td>\n",
       "      <td>15237</td>\n",
       "      <td>40.551219</td>\n",
       "      <td>-80.037362</td>\n",
       "      <td>Take Out</td>\n",
       "    </tr>\n",
       "    <tr>\n",
       "      <th>2</th>\n",
       "      <td>Allegheny Sandwich Shop</td>\n",
       "      <td>NaN</td>\n",
       "      <td>2/24/1997</td>\n",
       "      <td>414</td>\n",
       "      <td>Grant St</td>\n",
       "      <td>15219</td>\n",
       "      <td>40.438110</td>\n",
       "      <td>-79.996860</td>\n",
       "      <td>NO Dollar Menu</td>\n",
       "    </tr>\n",
       "    <tr>\n",
       "      <th>3</th>\n",
       "      <td>Allegheny Sandwich Shoppe #3</td>\n",
       "      <td>Allegheny Sandwich Shoppe Inc</td>\n",
       "      <td>11/9/2001</td>\n",
       "      <td>440</td>\n",
       "      <td>Ross St</td>\n",
       "      <td>15219</td>\n",
       "      <td>40.438514</td>\n",
       "      <td>-79.995330</td>\n",
       "      <td>NO Dollar Menu</td>\n",
       "    </tr>\n",
       "    <tr>\n",
       "      <th>4</th>\n",
       "      <td>Amili's Pizzeria</td>\n",
       "      <td>NaN</td>\n",
       "      <td>2/26/1999</td>\n",
       "      <td>1021</td>\n",
       "      <td>Brownsville Rd</td>\n",
       "      <td>15210</td>\n",
       "      <td>40.406082</td>\n",
       "      <td>-79.991863</td>\n",
       "      <td>Take Out</td>\n",
       "    </tr>\n",
       "  </tbody>\n",
       "</table>\n",
       "</div>"
      ],
      "text/plain": [
       "                           Name                     Legal Name Start Date  \\\n",
       "0                Adrian's Pizza                            NaN  11/7/2014   \n",
       "1        Adrian's Pizza Express           Rock Enterprises Inc  4/22/2004   \n",
       "2       Allegheny Sandwich Shop                            NaN  2/24/1997   \n",
       "3  Allegheny Sandwich Shoppe #3  Allegheny Sandwich Shoppe Inc  11/9/2001   \n",
       "4              Amili's Pizzeria                            NaN  2/26/1999   \n",
       "\n",
       "  Street Number      Street Name  ZIP Code        Lat        Lon  \\\n",
       "0           605  Thompson Run Rd     15237  40.539465 -79.990764   \n",
       "1          7824        Perry Hwy     15237  40.551219 -80.037362   \n",
       "2           414         Grant St     15219  40.438110 -79.996860   \n",
       "3           440          Ross St     15219  40.438514 -79.995330   \n",
       "4          1021   Brownsville Rd     15210  40.406082 -79.991863   \n",
       "\n",
       "         Category  \n",
       "0        Take Out  \n",
       "1        Take Out  \n",
       "2  NO Dollar Menu  \n",
       "3  NO Dollar Menu  \n",
       "4        Take Out  "
      ]
     },
     "execution_count": 9,
     "metadata": {},
     "output_type": "execute_result"
    }
   ],
   "source": [
    "# import necessary libraries\n",
    "import pandas as pd\n",
    "import matplotlib.pyplot as plt\n",
    "\n",
    "# Load the dataset\n",
    "url = \"https://data.wprdc.org/dataset/c34f9a82-779c-4f90-9e1c-b3b5025b0db5/resource/3c530161-2976-41ae-a0f0-7d3e74835049/download/fastfoodalleghenycountyupdatexy2.csv\"\n",
    "fast_food_data = pd.read_csv(url)\n",
    "\n",
    "# Display the first few rows of the dataset to understand the format\n",
    "fast_food_data.head()"
   ]
  },
  {
   "cell_type": "markdown",
   "metadata": {},
   "source": [
    "The sub-metric I will use to determine the best neighborhood in Pittsburgh is the total count of fast food restuarants for each given neighborhood. I chose this metric for the following reasons.\n",
    "\n",
    "1. A high number of fast food restaurants can indicate good accessibility to food different options within the neighborhood. This can be particularly important for individuals who rely on convenience (college students) or have limited mobility.\n",
    "2. A high concentration of fast food restaurants likely represent a thriving local economy and a high number of potential job opportunities in the area.\n",
    "3. An increase in fast food restaurants could be a sign of ongoing urban development, which might attract investment and lead to improvements in infrastructure and amenities.\n",
    "4. Provides a reflection of the cultural diversity of the neighborhood; a higher count of fast food restaurants could indicate a culturally diverse community.\n",
    "\n",
    "The following code calculates the total number of fast food restaurants for each given zip code, sorts the zip codes based on the total number of restaurants in descending order, displays the top 10 zip codes with the highest number of restaurants, and visualizes them in a table.\n"
   ]
  },
  {
   "cell_type": "code",
   "execution_count": 10,
   "metadata": {},
   "outputs": [
    {
     "name": "stdout",
     "output_type": "stream",
     "text": [
      "     ZIP Code  total_fast_food\n",
      "209     15146               51\n",
      "697     15222               46\n",
      "689     15237               44\n",
      "523     15213               38\n",
      "644     15205               36\n",
      "163     15219               27\n",
      "623     15236               25\n",
      "343     15235               22\n",
      "194     15102               21\n",
      "830     15217               20\n"
     ]
    },
    {
     "data": {
      "image/png": "[encoded data removed]",
      "text/plain": [
       "<Figure size 720x432 with 1 Axes>"
      ]
     },
     "metadata": {
      "needs_background": "light"
     },
     "output_type": "display_data"
    }
   ],
   "source": [
    "# Calculate the total number of fast food restaurants in each ZIP code\n",
    "fast_food_data['total_fast_food'] = fast_food_data.groupby('ZIP Code')['Category'].transform('count')\n",
    "\n",
    "# Sort ZIP codes by the total number of fast food restaurants\n",
    "sorted_data = fast_food_data.sort_values(by='total_fast_food', ascending=False)\n",
    "\n",
    "# Display the top ZIP codes with the highest number of fast food restaurants\n",
    "top_zipcodes = sorted_data[['ZIP Code', 'total_fast_food']].drop_duplicates().head(10)\n",
    "print(top_zipcodes)\n",
    "\n",
    "# Visualize the top ZIP codes with the highest number of fast food restaurants\n",
    "plt.figure(figsize=(10, 6))\n",
    "plt.bar(top_zipcodes['ZIP Code'].astype(str), top_zipcodes['total_fast_food'])\n",
    "plt.xlabel('ZIP Code')\n",
    "plt.ylabel('Total Fast Food Restaurants')\n",
    "plt.title('Top 10 Pittsburgh ZIP Codes with Highest Number of Fast Food Restaurants')\n",
    "plt.xticks(rotation=45, ha='right')\n",
    "plt.tight_layout()\n",
    "plt.show()"
   ]
  },
  {
   "cell_type": "markdown",
   "metadata": {},
   "source": [
    "Since the dataset only holds the restuarants zip code, and not the actual neighborhoods, I needed to manually convert the zipcodes to their corrseponding neighborhoods.\n",
    "\n",
    "The following code segment manually assigns neighborhoods to each ZIP code and creates a DataFrame named top_neighborhoods that contains two columns: \"Neighborhood\" and \"Total Fast Food Restaurants\". The \"Neighborhood\" column holds the names of the neighborhoods, and the \"Total Fast Food Restaurants\" column contains the total count of fast food restaurants in each neighborhood.\n",
    "\n",
    "After creating and printing the DataFrame, the code creates a visualization of same information using a bar chart, where the x-axis represents the neighborhoods and the y-axis represents the total number of fast food restaurants."
   ]
  },
  {
   "cell_type": "code",
   "execution_count": 14,
   "metadata": {},
   "outputs": [
    {
     "name": "stdout",
     "output_type": "stream",
     "text": [
      "                      Neighborhood  Total Fast Food Restaurants\n",
      "209                    Monroeville                           51\n",
      "697       Downtown, Strip District                           46\n",
      "689                       McKnight                           44\n",
      "523                        Oakland                           38\n",
      "644              Robinson, Crafton                           36\n",
      "163  Station Square, Hill District                           27\n",
      "623                 Pleasant Hills                           25\n",
      "343                     Penn Hills                           22\n",
      "194                    Bethel Park                           21\n",
      "830                  Squirrel Hill                           20\n"
     ]
    },
    {
     "data": {
      "image/png": "[encoded data removed]",
      "text/plain": [
       "<Figure size 720x432 with 1 Axes>"
      ]
     },
     "metadata": {
      "needs_background": "light"
     },
     "output_type": "display_data"
    }
   ],
   "source": [
    "neighborhoods = [\n",
    "    'Monroeville', \n",
    "    'Downtown, Strip District', \n",
    "    'McKnight', \n",
    "    'Oakland', \n",
    "    'Robinson, Crafton', \n",
    "    'Station Square, Hill District', \n",
    "    'Pleasant Hills', \n",
    "    'Penn Hills', \n",
    "    'Bethel Park', \n",
    "    'Squirrel Hill'\n",
    "]\n",
    "\n",
    "# Create a DataFrame for the top neighborhoods with the highest number of fast food restaurants\n",
    "top_neighborhoods = pd.DataFrame({\n",
    "    'Neighborhood': neighborhoods,\n",
    "    'Total Fast Food Restaurants': top_zipcodes['total_fast_food']\n",
    "})\n",
    "\n",
    "# Display the top neighborhoods with the highest number of fast food restaurants\n",
    "print(top_neighborhoods)\n",
    "\n",
    "# Visualize the top neighborhoods with the highest number of fast food restaurants\n",
    "plt.figure(figsize=(10, 6))\n",
    "plt.bar(top_neighborhoods['Neighborhood'], top_neighborhoods['Total Fast Food Restaurants'])\n",
    "plt.xlabel('Neighborhood')\n",
    "plt.ylabel('Total Fast Food Restaurants')\n",
    "plt.title('Top 10 Pittsburgh Neighborhoods with Highest Number of Fast Food Restaurants')\n",
    "plt.xticks(rotation=45, ha='right')\n",
    "plt.tight_layout()\n",
    "plt.show()"
   ]
  },
  {
   "cell_type": "markdown",
   "metadata": {},
   "source": [
    "The results displayed in the table and the bar chart represent the top 10 Pittsburgh neighborhoods with the highest number of fast food restaurants. This information can be valuable for potential residents, business owners, and policymakers interested in understanding food options and economic dynamics within Pittsburgh neighborhoods. Overall, the results suggest that *most* areas with a high number of fast food restaurants have a higher population density, and more commercial activity. \n",
    "\n",
    "To conclude, according to the sub-metric of total fast food restaurants, the best neighborhood in Pittsburgh is Monroeville, with Downtown/Strip Disctrict and McKnight following close behind. "
   ]
  },
  {
   "cell_type": "code",
   "execution_count": null,
   "metadata": {},
   "outputs": [],
   "source": []
  }
 ],
 "metadata": {
  "kernelspec": {
   "display_name": "Python 3",
   "language": "python",
   "name": "python3"
  },
  "language_info": {
   "codemirror_mode": {
    "name": "ipython",
    "version": 3
   },
   "file_extension": ".py",
   "mimetype": "text/x-python",
   "name": "python",
   "nbconvert_exporter": "python",
   "pygments_lexer": "ipython3",
   "version": "3.8.3"
  }
 },
 "nbformat": 4,
 "nbformat_minor": 4
}
